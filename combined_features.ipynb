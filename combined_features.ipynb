{
 "cells": [
  {
   "cell_type": "code",
   "execution_count": 1,
   "metadata": {},
   "outputs": [
    {
     "name": "stderr",
     "output_type": "stream",
     "text": [
      "Using TensorFlow backend.\n"
     ]
    }
   ],
   "source": [
    "import numpy as np\n",
    "import matplotlib.pyplot as plt\n",
    "import librosa.display\n",
    "import pylab\n",
    "from sklearn.model_selection import train_test_split\n",
    "from sklearn.metrics import accuracy_score\n",
    "import librosa    \n",
    "import glob\n",
    "import tensorflow as tf\n",
    "from tensorflow.keras.preprocessing.image import ImageDataGenerator\n",
    "from tensorflow.keras.models import Sequential\n",
    "from tensorflow.keras.layers import Dense, Dropout, Activation, Flatten\n",
    "from tensorflow.keras.layers import Conv2D, MaxPooling2D\n",
    "from keras.utils import to_categorical\n",
    "from keras import optimizers\n",
    "import keras\n",
    "\n",
    "%matplotlib inline\n",
    "\n"
   ]
  },
  {
   "cell_type": "code",
   "execution_count": 2,
   "metadata": {},
   "outputs": [],
   "source": [
    "audio_data = []\n",
    "labels = []\n",
    "sampling_rate = []\n",
    "file_names = []\n"
   ]
  },
  {
   "cell_type": "code",
   "execution_count": 3,
   "metadata": {},
   "outputs": [
    {
     "name": "stdout",
     "output_type": "stream",
     "text": [
      "(220000,)\n",
      "44000\n"
     ]
    }
   ],
   "source": [
    "data, samplerate = librosa.load(\"dataset/dog/1-30344-A.wav\", sr=44000) # Downsample 44.1kHz to 8kHz\n",
    "print(data.shape)\n",
    "print(samplerate)\n"
   ]
  },
  {
   "cell_type": "code",
   "execution_count": 4,
   "metadata": {},
   "outputs": [
    {
     "name": "stdout",
     "output_type": "stream",
     "text": [
      "5.0\n",
      "2.2727272727272726e-05\n",
      "176000.0\n"
     ]
    }
   ],
   "source": [
    "time_sec = (len(data)/samplerate)\n",
    "step = time_sec/len(data)\n",
    "print(time_sec)\n",
    "print(step)\n",
    "i=0\n",
    "time_divion=[]\n",
    "while i<=time_sec-step:\n",
    "    \n",
    "    time_divion.append(i)\n",
    "    i=i+step\n",
    "# the fourth second step\n",
    "four_sec_step_number = (4*len(time_divion))/time_sec\n",
    "print(four_sec_step_number)"
   ]
  },
  {
   "cell_type": "code",
   "execution_count": 5,
   "metadata": {},
   "outputs": [
    {
     "name": "stdout",
     "output_type": "stream",
     "text": [
      "['004 - Baby cry', '005 - Clock tick', '006 - Person sneeze', '007 - Helicopter', '008 - Chainsaw', '009 - Rooster', '010 - Fire crackling', 'dog', 'rain', 'sea']\n",
      "the class = 004 - Baby cry, the label = 0\n",
      "the class = 005 - Clock tick, the label = 1\n",
      "the class = 006 - Person sneeze, the label = 2\n",
      "the class = 007 - Helicopter, the label = 3\n",
      "the class = 008 - Chainsaw, the label = 4\n",
      "the class = 009 - Rooster, the label = 5\n",
      "the class = 010 - Fire crackling, the label = 6\n",
      "the class = dog, the label = 7\n",
      "the class = rain, the label = 8\n",
      "the class = sea, the label = 9\n",
      "0\n"
     ]
    }
   ],
   "source": [
    "classes = []\n",
    "label_number=0\n",
    "audio_data = []\n",
    "labels = []\n",
    "sampling_rate = []\n",
    "file_names = []\n",
    "data = []\n",
    "noisy_removed=[]\n",
    "noise=[]\n",
    "for filepath in glob.iglob('dataset/*'):\n",
    "    \n",
    "    #print(filepath[9:])\n",
    "    \n",
    "    #print(filepath)\n",
    "    classes.append(filepath[8:])\n",
    "\n",
    "print(classes)\n",
    "\n",
    "for i in classes:\n",
    "    print(\"the class = \"+i+\", the label = \"+str(label_number))\n",
    "    for j in glob.iglob('dataset/'+i+'/*'):\n",
    "        #samplerate, data = wavfile.read(j)\n",
    "        y, s = librosa.load(j, sr=44000) # Downsample 44.1kHz to 8kHz\n",
    "        #reduced_noise = nr.reduce_noise(audio_clip=y, noise_clip=y, verbose=False)\n",
    "        #print(s)\n",
    "        #print(j)\n",
    "        data.append([y,label_number])\n",
    "        #noise.append(y)\n",
    "        #labels.append(label_number)\n",
    "        \n",
    "    label_number = label_number + 1\n",
    "print(len(labels))\n",
    "#print(labels)\n",
    "\n",
    "\n"
   ]
  },
  {
   "cell_type": "code",
   "execution_count": 6,
   "metadata": {},
   "outputs": [],
   "source": [
    "import random\n",
    "\n",
    "random.shuffle(data)\n",
    "audio_data=[]\n",
    "labels=[]\n",
    "for i,j in data:\n",
    "    audio_data.append(i)\n",
    "    labels.append(j)\n",
    "    \n"
   ]
  },
  {
   "cell_type": "code",
   "execution_count": 7,
   "metadata": {},
   "outputs": [
    {
     "name": "stdout",
     "output_type": "stream",
     "text": [
      "1\n"
     ]
    }
   ],
   "source": [
    "print(labels[0])"
   ]
  },
  {
   "cell_type": "code",
   "execution_count": null,
   "metadata": {},
   "outputs": [],
   "source": []
  },
  {
   "cell_type": "code",
   "execution_count": 8,
   "metadata": {},
   "outputs": [
    {
     "data": {
      "text/plain": [
       "(128, 430)"
      ]
     },
     "execution_count": 8,
     "metadata": {},
     "output_type": "execute_result"
    }
   ],
   "source": [
    "mel_spectogram = librosa.feature.melspectrogram(y=audio_data[19],sr=44000)\n",
    "power = librosa.power_to_db(mel_spectogram)\n",
    "power.shape"
   ]
  },
  {
   "cell_type": "code",
   "execution_count": null,
   "metadata": {},
   "outputs": [],
   "source": []
  },
  {
   "cell_type": "code",
   "execution_count": 9,
   "metadata": {},
   "outputs": [
    {
     "data": {
      "text/plain": [
       "(55040, 1)"
      ]
     },
     "execution_count": 9,
     "metadata": {},
     "output_type": "execute_result"
    }
   ],
   "source": [
    "power=power.reshape(-1,1)\n",
    "power.shape"
   ]
  },
  {
   "cell_type": "code",
   "execution_count": null,
   "metadata": {},
   "outputs": [],
   "source": []
  },
  {
   "cell_type": "code",
   "execution_count": 16,
   "metadata": {},
   "outputs": [
    {
     "name": "stdout",
     "output_type": "stream",
     "text": [
      "0\n",
      "100\n",
      "200\n",
      "300\n"
     ]
    },
    {
     "data": {
      "text/plain": [
       "(400, 8600, 1)"
      ]
     },
     "execution_count": 16,
     "metadata": {},
     "output_type": "execute_result"
    }
   ],
   "source": [
    "melspectrogram = []\n",
    "for i in range (0,400):\n",
    "    if i%100 == 0:\n",
    "        print(i)\n",
    "    mel_spectogram = librosa.feature.melspectrogram(y=audio_data[i],sr=44000)\n",
    "    power = librosa.power_to_db(mel_spectogram)\n",
    "\n",
    "    power=power.reshape(-1,1)\n",
    "  \n",
    "\n",
    "    melspectrogram.append(power[:8600])\n",
    "    if power.shape[0]<8600:\n",
    "        print(mf.shape)\n",
    "    \n",
    "melspectrogram =np.array(melspectrogram) \n",
    "melspectrogram.shape\n",
    "    "
   ]
  },
  {
   "cell_type": "code",
   "execution_count": 17,
   "metadata": {},
   "outputs": [
    {
     "data": {
      "text/plain": [
       "(400, 8600)"
      ]
     },
     "execution_count": 17,
     "metadata": {},
     "output_type": "execute_result"
    }
   ],
   "source": [
    "melspectrogram=melspectrogram.reshape(400,-1)\n",
    "melspectrogram.shape\n"
   ]
  },
  {
   "cell_type": "code",
   "execution_count": null,
   "metadata": {},
   "outputs": [],
   "source": []
  },
  {
   "cell_type": "code",
   "execution_count": 35,
   "metadata": {},
   "outputs": [
    {
     "name": "stdout",
     "output_type": "stream",
     "text": [
      "(20, 430)\n"
     ]
    }
   ],
   "source": [
    "mf = librosa.feature.mfcc(y=audio_data[41], sr=44000)\n",
    "print(mf.shape)\n",
    "mf=mf.reshape(-1,1)"
   ]
  },
  {
   "cell_type": "code",
   "execution_count": 24,
   "metadata": {},
   "outputs": [
    {
     "name": "stdout",
     "output_type": "stream",
     "text": [
      "0\n",
      "100\n",
      "200\n",
      "300\n"
     ]
    },
    {
     "data": {
      "text/plain": [
       "(400, 8540, 1)"
      ]
     },
     "execution_count": 24,
     "metadata": {},
     "output_type": "execute_result"
    }
   ],
   "source": [
    "mfcc = []\n",
    "for i in range (0,400):\n",
    "    if i%100 == 0:\n",
    "        print(i)\n",
    "    mf = librosa.feature.mfcc(y=audio_data[i], sr=44000)\n",
    "    \n",
    "    mf=mf.reshape(-1,1)\n",
    "  \n",
    "\n",
    "    mfcc.append(mf[:8540])\n",
    "    if mf.shape[0]<8540:\n",
    "        print(mf.shape)\n",
    "    #print(mf.shape)\n",
    "    \n",
    "mfcc =np.array(mfcc) \n",
    "mfcc.shape"
   ]
  },
  {
   "cell_type": "code",
   "execution_count": 25,
   "metadata": {},
   "outputs": [
    {
     "data": {
      "text/plain": [
       "(400, 8540)"
      ]
     },
     "execution_count": 25,
     "metadata": {},
     "output_type": "execute_result"
    }
   ],
   "source": [
    "mfcc=mfcc.reshape(400,-1)\n",
    "mfcc.shape\n"
   ]
  },
  {
   "cell_type": "code",
   "execution_count": 26,
   "metadata": {},
   "outputs": [
    {
     "name": "stdout",
     "output_type": "stream",
     "text": [
      "36.64163\n",
      "1.0000001\n"
     ]
    }
   ],
   "source": [
    "from sklearn.preprocessing import MinMaxScaler\n",
    "scaler = MinMaxScaler(feature_range=(0, 1))\n",
    "scaler.fit(melspectrogram)\n",
    "normalized_melspectrogram = scaler.transform(melspectrogram)\n",
    "\n",
    "print(np.amax(melspectrogram))\n",
    "print(np.amax(normalized_melspectrogram))\n",
    "\n"
   ]
  },
  {
   "cell_type": "code",
   "execution_count": 27,
   "metadata": {},
   "outputs": [
    {
     "name": "stdout",
     "output_type": "stream",
     "text": [
      "305.3837\n",
      "1.0000001\n"
     ]
    }
   ],
   "source": [
    "from sklearn.preprocessing import MinMaxScaler\n",
    "scaler = MinMaxScaler(feature_range=(0, 1))\n",
    "scaler.fit(mfcc)\n",
    "normalized_mfcc = scaler.transform(mfcc)\n",
    "\n",
    "print(np.amax(mfcc))\n",
    "print(np.amax(normalized_mfcc))\n"
   ]
  },
  {
   "cell_type": "code",
   "execution_count": 30,
   "metadata": {},
   "outputs": [
    {
     "data": {
      "text/plain": [
       "(400, 9000)"
      ]
     },
     "execution_count": 30,
     "metadata": {},
     "output_type": "execute_result"
    }
   ],
   "source": [
    "normalized_melspectrogram[:,:9000].shape"
   ]
  },
  {
   "cell_type": "code",
   "execution_count": 28,
   "metadata": {},
   "outputs": [
    {
     "name": "stdout",
     "output_type": "stream",
     "text": [
      "(400, 17140)\n"
     ]
    }
   ],
   "source": [
    "final_feature_all = np.concatenate((normalized_melspectrogram[:,:],normalized_mfcc[:,:]),axis=1)\n",
    "print(final_feature_all.shape)\n"
   ]
  },
  {
   "cell_type": "code",
   "execution_count": null,
   "metadata": {},
   "outputs": [],
   "source": []
  },
  {
   "cell_type": "code",
   "execution_count": 29,
   "metadata": {},
   "outputs": [
    {
     "data": {
      "text/plain": [
       "DecisionTreeClassifier(class_weight=None, criterion='gini', max_depth=None,\n",
       "            max_features=None, max_leaf_nodes=None,\n",
       "            min_impurity_decrease=0.0, min_impurity_split=None,\n",
       "            min_samples_leaf=1, min_samples_split=2,\n",
       "            min_weight_fraction_leaf=0.0, presort=False, random_state=None,\n",
       "            splitter='best')"
      ]
     },
     "execution_count": 29,
     "metadata": {},
     "output_type": "execute_result"
    }
   ],
   "source": [
    "from sklearn import tree\n",
    "X_train, X_test, y_train, y_test = train_test_split(final_feature_all, labels, test_size=0.20, random_state=1150)\n",
    "clf = tree.DecisionTreeClassifier()\n",
    "clf.fit(X_train, y_train)"
   ]
  },
  {
   "cell_type": "code",
   "execution_count": 30,
   "metadata": {},
   "outputs": [
    {
     "name": "stdout",
     "output_type": "stream",
     "text": [
      "0.4875\n"
     ]
    }
   ],
   "source": [
    "y_pred = clf.predict(X_test)\n",
    "print(accuracy_score(y_test, y_pred))"
   ]
  },
  {
   "cell_type": "code",
   "execution_count": null,
   "metadata": {},
   "outputs": [],
   "source": []
  },
  {
   "cell_type": "code",
   "execution_count": 37,
   "metadata": {},
   "outputs": [
    {
     "data": {
      "text/plain": [
       "(400, 20, 857, 1)"
      ]
     },
     "execution_count": 37,
     "metadata": {},
     "output_type": "execute_result"
    }
   ],
   "source": [
    "features_convolution = np.reshape(final_feature_all,(400,20, -1,1))\n",
    "features_convolution.shape"
   ]
  },
  {
   "cell_type": "code",
   "execution_count": 38,
   "metadata": {},
   "outputs": [],
   "source": [
    "y=keras.utils.to_categorical(labels, num_classes=10, dtype='float32')\n"
   ]
  },
  {
   "cell_type": "code",
   "execution_count": null,
   "metadata": {},
   "outputs": [],
   "source": []
  },
  {
   "cell_type": "code",
   "execution_count": 39,
   "metadata": {},
   "outputs": [],
   "source": [
    "model = Sequential()\n",
    "\n",
    "model.add(Conv2D(16, (3, 3), input_shape=features_convolution.shape[1:]))\n",
    "model.add(Activation('relu'))\n",
    "model.add(MaxPooling2D(pool_size=(2, 2)))\n",
    "#'''\n",
    "#model.add(Dropout(0.2))\n",
    "\n",
    "model.add(Conv2D(32, (3, 3)))\n",
    "model.add(Activation('relu'))\n",
    "model.add(MaxPooling2D(pool_size=(2, 2)))\n",
    "\n",
    "#model.add(Dropout(0.2))\n",
    "\n",
    "#'''\n",
    "#'''\n",
    "model.add(Conv2D(64, (3, 3),padding='same'))\n",
    "model.add(Activation('relu'))\n",
    "model.add(MaxPooling2D(pool_size=(2, 2)))\n",
    "#'''\n",
    "\n",
    "\n",
    "model.add(Flatten())  # this converts our 3D feature maps to 1D feature vectors\n",
    "\n",
    "#model.add(Dense(1000))#input_shape=features.shape[1:]\n",
    "model.add(Dense(64))#input_shape=features.shape[1:]\n",
    "\n",
    "model.add(Dense(10))\n",
    "model.add(Activation('softmax'))\n",
    "sgd = optimizers.SGD(lr=0.0000001, decay=1e-6, momentum=0.9, nesterov=True)\n",
    "\n",
    "model.compile(loss='categorical_crossentropy',\n",
    "              optimizer='adam',\n",
    "              metrics=['accuracy'])"
   ]
  },
  {
   "cell_type": "code",
   "execution_count": 40,
   "metadata": {},
   "outputs": [
    {
     "name": "stdout",
     "output_type": "stream",
     "text": [
      "Train on 320 samples, validate on 80 samples\n",
      "Epoch 1/40\n",
      "320/320 [==============================] - 6s 20ms/step - loss: 2.1551 - acc: 0.2375 - val_loss: 1.7772 - val_acc: 0.3125\n",
      "Epoch 2/40\n",
      "320/320 [==============================] - 6s 19ms/step - loss: 1.5490 - acc: 0.4656 - val_loss: 1.2500 - val_acc: 0.5250\n",
      "Epoch 3/40\n",
      "320/320 [==============================] - 6s 20ms/step - loss: 1.2134 - acc: 0.5656 - val_loss: 1.0267 - val_acc: 0.5875\n",
      "Epoch 4/40\n",
      "320/320 [==============================] - 6s 19ms/step - loss: 0.9984 - acc: 0.6062 - val_loss: 0.9582 - val_acc: 0.6500\n",
      "Epoch 5/40\n",
      "320/320 [==============================] - 6s 17ms/step - loss: 0.9146 - acc: 0.6844 - val_loss: 0.8175 - val_acc: 0.7375\n",
      "Epoch 6/40\n",
      "320/320 [==============================] - 6s 17ms/step - loss: 0.9221 - acc: 0.6844 - val_loss: 1.3003 - val_acc: 0.6000\n",
      "Epoch 7/40\n",
      "320/320 [==============================] - 6s 18ms/step - loss: 0.8436 - acc: 0.7219 - val_loss: 0.8792 - val_acc: 0.6750\n",
      "Epoch 8/40\n",
      "320/320 [==============================] - 6s 17ms/step - loss: 0.5865 - acc: 0.8125 - val_loss: 0.8771 - val_acc: 0.6875\n",
      "Epoch 9/40\n",
      "320/320 [==============================] - 6s 17ms/step - loss: 0.5040 - acc: 0.8594 - val_loss: 0.7121 - val_acc: 0.7500\n",
      "Epoch 10/40\n",
      "320/320 [==============================] - 6s 18ms/step - loss: 0.4506 - acc: 0.8344 - val_loss: 0.8196 - val_acc: 0.7500\n",
      "Epoch 11/40\n",
      "320/320 [==============================] - 6s 18ms/step - loss: 0.3537 - acc: 0.8813 - val_loss: 0.8094 - val_acc: 0.7125\n",
      "Epoch 12/40\n",
      "320/320 [==============================] - 6s 18ms/step - loss: 0.3135 - acc: 0.9000 - val_loss: 0.7942 - val_acc: 0.7375\n",
      "Epoch 13/40\n",
      "320/320 [==============================] - 6s 19ms/step - loss: 0.3647 - acc: 0.8781 - val_loss: 0.8514 - val_acc: 0.7125\n",
      "Epoch 14/40\n",
      "320/320 [==============================] - 6s 18ms/step - loss: 0.2395 - acc: 0.9250 - val_loss: 0.7681 - val_acc: 0.7375\n",
      "Epoch 15/40\n",
      "320/320 [==============================] - 6s 17ms/step - loss: 0.2277 - acc: 0.9219 - val_loss: 0.8784 - val_acc: 0.6750\n",
      "Epoch 16/40\n",
      "320/320 [==============================] - 6s 19ms/step - loss: 0.1809 - acc: 0.9531 - val_loss: 0.7248 - val_acc: 0.7375\n",
      "Epoch 17/40\n",
      "320/320 [==============================] - 6s 18ms/step - loss: 0.1382 - acc: 0.9531 - val_loss: 0.9253 - val_acc: 0.7250\n",
      "Epoch 18/40\n",
      "320/320 [==============================] - 6s 18ms/step - loss: 0.1782 - acc: 0.9281 - val_loss: 0.9776 - val_acc: 0.6750\n",
      "Epoch 19/40\n",
      "320/320 [==============================] - 6s 18ms/step - loss: 0.1393 - acc: 0.9500 - val_loss: 1.0924 - val_acc: 0.6875\n",
      "Epoch 20/40\n",
      "320/320 [==============================] - 6s 18ms/step - loss: 0.1709 - acc: 0.9375 - val_loss: 1.2892 - val_acc: 0.6500\n",
      "Epoch 21/40\n",
      "320/320 [==============================] - 6s 19ms/step - loss: 0.1760 - acc: 0.9375 - val_loss: 1.1035 - val_acc: 0.7000\n",
      "Epoch 22/40\n",
      "320/320 [==============================] - 5s 17ms/step - loss: 0.0883 - acc: 0.9781 - val_loss: 0.8094 - val_acc: 0.7625\n",
      "Epoch 23/40\n",
      "320/320 [==============================] - 6s 19ms/step - loss: 0.0773 - acc: 0.9781 - val_loss: 0.8350 - val_acc: 0.7250\n",
      "Epoch 24/40\n",
      "320/320 [==============================] - 6s 20ms/step - loss: 0.0745 - acc: 0.9781 - val_loss: 0.9842 - val_acc: 0.7500\n",
      "Epoch 25/40\n",
      "320/320 [==============================] - 6s 19ms/step - loss: 0.0508 - acc: 0.9906 - val_loss: 0.9388 - val_acc: 0.7250\n",
      "Epoch 26/40\n",
      "320/320 [==============================] - 6s 18ms/step - loss: 0.0426 - acc: 0.9906 - val_loss: 0.8594 - val_acc: 0.7625\n",
      "Epoch 27/40\n",
      "320/320 [==============================] - 6s 19ms/step - loss: 0.0300 - acc: 0.9969 - val_loss: 0.8582 - val_acc: 0.7500\n",
      "Epoch 28/40\n",
      "320/320 [==============================] - 7s 21ms/step - loss: 0.0299 - acc: 0.9969 - val_loss: 1.1239 - val_acc: 0.6875\n",
      "Epoch 29/40\n",
      "320/320 [==============================] - 6s 19ms/step - loss: 0.0259 - acc: 1.0000 - val_loss: 1.0153 - val_acc: 0.7375\n",
      "Epoch 30/40\n",
      "320/320 [==============================] - 6s 20ms/step - loss: 0.0228 - acc: 0.9969 - val_loss: 0.9536 - val_acc: 0.7500\n",
      "Epoch 31/40\n",
      "320/320 [==============================] - 6s 18ms/step - loss: 0.0144 - acc: 1.0000 - val_loss: 1.1671 - val_acc: 0.7000\n",
      "Epoch 32/40\n",
      "320/320 [==============================] - 6s 19ms/step - loss: 0.0473 - acc: 0.9812 - val_loss: 1.1820 - val_acc: 0.7125\n",
      "Epoch 33/40\n",
      "320/320 [==============================] - 7s 21ms/step - loss: 0.0610 - acc: 0.9750 - val_loss: 1.3431 - val_acc: 0.7125\n",
      "Epoch 34/40\n",
      "320/320 [==============================] - 6s 18ms/step - loss: 0.0477 - acc: 0.9781 - val_loss: 1.2294 - val_acc: 0.7250\n",
      "Epoch 35/40\n",
      "320/320 [==============================] - 6s 18ms/step - loss: 0.0319 - acc: 0.9969 - val_loss: 1.1306 - val_acc: 0.7375\n",
      "Epoch 36/40\n",
      "320/320 [==============================] - 6s 18ms/step - loss: 0.0149 - acc: 0.9969 - val_loss: 1.1628 - val_acc: 0.7250\n",
      "Epoch 37/40\n",
      "320/320 [==============================] - 5s 16ms/step - loss: 0.0058 - acc: 1.0000 - val_loss: 1.1709 - val_acc: 0.7375\n",
      "Epoch 38/40\n",
      "320/320 [==============================] - 5s 16ms/step - loss: 0.0047 - acc: 1.0000 - val_loss: 1.1857 - val_acc: 0.7250\n",
      "Epoch 39/40\n",
      "320/320 [==============================] - 5s 15ms/step - loss: 0.0037 - acc: 1.0000 - val_loss: 1.1834 - val_acc: 0.7375\n",
      "Epoch 40/40\n",
      "320/320 [==============================] - 5s 15ms/step - loss: 0.0030 - acc: 1.0000 - val_loss: 1.2115 - val_acc: 0.7375\n"
     ]
    }
   ],
   "source": [
    "history = model.fit(features_convolution, y,batch_size=16, epochs=40,validation_split=0.2)"
   ]
  },
  {
   "cell_type": "code",
   "execution_count": null,
   "metadata": {},
   "outputs": [],
   "source": []
  },
  {
   "cell_type": "code",
   "execution_count": 41,
   "metadata": {},
   "outputs": [
    {
     "data": {
      "image/png": "[encoded data removed]",
      "text/plain": [
       "<Figure size 432x288 with 1 Axes>"
      ]
     },
     "metadata": {
      "needs_background": "light"
     },
     "output_type": "display_data"
    },
    {
     "data": {
      "text/plain": [
       "<Figure size 432x288 with 0 Axes>"
      ]
     },
     "metadata": {},
     "output_type": "display_data"
    }
   ],
   "source": [
    "import matplotlib.pyplot as plt\n",
    "acc = history.history['acc']\n",
    "val_acc = history.history['val_acc']\n",
    "loss = history.history['loss']\n",
    "val_loss = history.history['val_loss']\n",
    "\n",
    "epochs = range(len(acc))\n",
    "\n",
    "plt.plot(epochs, acc, 'r', label='Training accuracy')\n",
    "plt.plot(epochs, val_acc, 'b', label='Validation accuracy')\n",
    "plt.title('Training and validation accuracy')\n",
    "plt.legend(loc=0)\n",
    "plt.figure()\n",
    "\n",
    "\n",
    "plt.show()"
   ]
  },
  {
   "cell_type": "code",
   "execution_count": null,
   "metadata": {},
   "outputs": [],
   "source": []
  },
  {
   "cell_type": "code",
   "execution_count": null,
   "metadata": {},
   "outputs": [],
   "source": []
  },
  {
   "cell_type": "code",
   "execution_count": null,
   "metadata": {},
   "outputs": [],
   "source": []
  }
 ],
 "metadata": {
  "kernelspec": {
   "display_name": "Python 3",
   "language": "python",
   "name": "python3"
  },
  "language_info": {
   "codemirror_mode": {
    "name": "ipython",
    "version": 3
   },
   "file_extension": ".py",
   "mimetype": "text/x-python",
   "name": "python",
   "nbconvert_exporter": "python",
   "pygments_lexer": "ipython3",
   "version": "3.6.6"
  }
 },
 "nbformat": 4,
 "nbformat_minor": 2
}
